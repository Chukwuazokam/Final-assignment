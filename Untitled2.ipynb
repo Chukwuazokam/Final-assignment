{
  "metadata": {
    "language_info": {
      "codemirror_mode": {
        "name": "python",
        "version": 3
      },
      "file_extension": ".py",
      "mimetype": "text/x-python",
      "name": "python",
      "nbconvert_exporter": "python",
      "pygments_lexer": "ipython3",
      "version": "3.8"
    },
    "kernelspec": {
      "name": "python",
      "display_name": "Pyolite",
      "language": "python"
    }
  },
  "nbformat_minor": 4,
  "nbformat": 4,
  "cells": [
    {
      "cell_type": "markdown",
      "source": "# My Jupyter Notebook on IBM Watson Studio",
      "metadata": {}
    },
    {
      "cell_type": "markdown",
      "source": "**Okpala Chiazokam**\nGeneticist",
      "metadata": {}
    },
    {
      "cell_type": "markdown",
      "source": "*I became fascinated about data science when I discovered it is a prerequsite for me if I will achieve my dreams as a modern day geneticist*",
      "metadata": {}
    },
    {
      "cell_type": "markdown",
      "source": "### My code is meant to add numbers togther ",
      "metadata": {}
    },
    {
      "cell_type": "code",
      "source": "num1 = 4\nnum2 = 9\nnum1 + num2",
      "metadata": {
        "trusted": true
      },
      "execution_count": 2,
      "outputs": [
        {
          "execution_count": 2,
          "output_type": "execute_result",
          "data": {
            "text/plain": "13"
          },
          "metadata": {}
        }
      ]
    },
    {
      "cell_type": "markdown",
      "source": "*****\n-  hello\n- firstly,I am human\n-  secondly, I love genetics\n\ncheck out [IBM](https://www.ibm.com/watson) to begin your journey in data sc",
      "metadata": {}
    },
    {
      "cell_type": "code",
      "source": "",
      "metadata": {},
      "execution_count": null,
      "outputs": []
    }
  ]
}